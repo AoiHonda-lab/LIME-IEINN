{
 "cells": [
  {
   "cell_type": "code",
   "execution_count": 3,
   "metadata": {},
   "outputs": [
    {
     "name": "stderr",
     "output_type": "stream",
     "text": [
      "C:\\Users\\minas\\anaconda3\\Lib\\site-packages\\paramiko\\transport.py:219: CryptographyDeprecationWarning: Blowfish has been deprecated and will be removed in a future release\n",
      "  \"class\": algorithms.Blowfish,\n"
     ]
    }
   ],
   "source": [
    "import numpy as np\n",
    "from sklearn.datasets import load_iris\n",
    "from sklearn.ensemble import RandomForestClassifier\n",
    "from lime_ieinn.tabular_explainer import TabularExplainer"
   ]
  },
  {
   "cell_type": "code",
   "execution_count": 5,
   "metadata": {},
   "outputs": [],
   "source": [
    "iris = load_iris()\n",
    "X, y = iris.data, iris.target\n",
    "clf = RandomForestClassifier(random_state=42)\n",
    "clf.fit(X, y)\n",
    "predict_fn = clf.predict_proba"
   ]
  },
  {
   "cell_type": "code",
   "execution_count": 7,
   "metadata": {},
   "outputs": [],
   "source": [
    "instance = X[0]\n",
    "explainer = TabularExplainer(kernel_width=1.0)\n",
    "explanation = explainer.explain_instance(instance, predict_fn, reference_data=X, num_samples=1000)"
   ]
  },
  {
   "cell_type": "code",
   "execution_count": 9,
   "metadata": {},
   "outputs": [
    {
     "name": "stdout",
     "output_type": "stream",
     "text": [
      "Intercept: -0.001121632730141875\n",
      "Local prediction: 0.9933731412601396\n",
      "Top features:\n",
      "  Feature 1: weight=0.0001\n",
      "  Feature 0: weight=0.0423\n",
      "  Feature 2: weight=0.4612\n",
      "  Feature 3: weight=0.4910\n"
     ]
    }
   ],
   "source": [
    "print(\"Intercept:\", explanation[\"intercept\"])\n",
    "print(\"Local prediction:\", explanation[\"local_pred\"])\n",
    "print(\"Top features:\")\n",
    "for fid, weight in explanation[\"local_exp\"]:\n",
    "    print(f\"  Feature {fid}: weight={weight:.4f}\")"
   ]
  },
  {
   "cell_type": "code",
   "execution_count": null,
   "metadata": {},
   "outputs": [],
   "source": []
  }
 ],
 "metadata": {
  "kernelspec": {
   "display_name": "Python 3 (ipykernel)",
   "language": "python",
   "name": "python3"
  },
  "language_info": {
   "codemirror_mode": {
    "name": "ipython",
    "version": 3
   },
   "file_extension": ".py",
   "mimetype": "text/x-python",
   "name": "python",
   "nbconvert_exporter": "python",
   "pygments_lexer": "ipython3",
   "version": "3.11.7"
  }
 },
 "nbformat": 4,
 "nbformat_minor": 4
}
